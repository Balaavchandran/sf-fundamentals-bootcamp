{
 "cells": [
  {
   "cell_type": "code",
   "execution_count": 7,
   "metadata": {},
   "outputs": [],
   "source": [
    "#connection to Snowflake account\n",
    "from snowflake.snowpark import Session\n",
    "\n",
    "connection_parameters = {\n",
    "    \"account\": \"YOUR ACCOUNT ID\",\n",
    "    \"user\": \"YOUR USER\",\n",
    "    \"password\": \"YOUR PASSWORD\",\n",
    "   \"role\": \"SYSADMIN\",  # optional\n",
    "   \"warehouse\": \"COMPUTE_WH\",  # optional\n",
    "    \"database\": \"CITIBIKE\",  # optional\n",
    "    \"schema\": \"PUBLIC\",  # optional\n",
    "} \n",
    "\n",
    "new_session = Session.builder.configs(connection_parameters).create()  \n",
    "\n",
    "#verify the connection\n",
    "print(new_session.sql(\"select current_warehouse(), current_database(), current_schema()\").collect()) \n",
    "\n"
   ]
  },
  {
   "cell_type": "code",
   "execution_count": 29,
   "metadata": {},
   "outputs": [
    {
     "name": "stdout",
     "output_type": "stream",
     "text": [
      "-----------------------------------------------------------------------------------------------------------------------------------------------------------------------------------------------------------------------------------------------------------------------------------------------------------------------------------------------------------------------\n",
      "|\"TRIPDURATION\"  |\"STARTTIME\"                 |\"STOPTIME\"                  |\"START_STATION_ID\"  |\"START_STATION_NAME\"        |\"START_STATION_LATITUDE\"  |\"START_STATION_LONGITUDE\"  |\"END_STATION_ID\"  |\"END_STATION_NAME\"     |\"END_STATION_LATITUDE\"  |\"END_STATION_LONGITUDE\"  |\"BIKEID\"  |\"MEMBERSHIP_TYPE\"                |\"USERTYPE\"  |\"BIRTH_YEAR\"  |\"GENDER\"  |\n",
      "-----------------------------------------------------------------------------------------------------------------------------------------------------------------------------------------------------------------------------------------------------------------------------------------------------------------------------------------------------------------------\n",
      "|710             |2018-06-09 12:19:44.318000  |2018-06-09 12:31:34.555000  |324                 |DeKalb Ave & Hudson Ave     |40.689888                 |-73.981013                 |3382              |Carroll St & Smith St  |40.680611               |-73.99475825             |20278     |Annual Membership                |Subscriber  |1985          |2         |\n",
      "|95              |2018-06-09 12:19:45.283000  |2018-06-09 12:21:20.777000  |3684                |W 12 St & W 4 St            |40.737561212              |-74.003982693              |380               |W 4 St & 7 Ave S       |40.73401143             |-74.00293877             |18147     |Join Citi Bike for $14.95/month  |Subscriber  |1989          |1         |\n",
      "|1083            |2018-06-09 12:19:45.309000  |2018-06-09 12:37:48.787000  |3312                |1 Ave & E 94 St             |40.7817212                |-73.94594                  |519               |Pershing Square North  |40.751873               |-73.977706               |31967     |Annual Membership                |Subscriber  |1988          |1         |\n",
      "|2025            |2018-06-09 12:19:45.627000  |2018-06-09 12:53:30.934000  |239                 |Willoughby St & Fleet St    |40.69196566               |-73.9813018                |279               |Peck Slip & Front St   |40.707873               |-74.00167                |20626     |$25 Off Annual Membership        |Subscriber  |1981          |2         |\n",
      "|2013            |2018-06-09 12:19:46.541000  |2018-06-09 12:53:20.183000  |239                 |Willoughby St & Fleet St    |40.69196566               |-73.9813018                |279               |Peck Slip & Front St   |40.707873               |-74.00167                |31323     |$25 Off Annual Membership        |Subscriber  |1987          |1         |\n",
      "|1931            |2018-06-09 12:19:46.606000  |2018-06-09 12:51:58.246000  |474                 |5 Ave & E 29 St             |40.7451677                |-73.98683077               |363               |West Thames St         |40.70834698             |-74.01713445             |26743     |Annual Membership                |Subscriber  |1982          |1         |\n",
      "|638             |2018-06-09 12:19:47.347000  |2018-06-09 12:30:25.898000  |522                 |E 51 St & Lexington Ave     |40.75714758               |-73.97207836               |3359              |E 68 St & Madison Ave  |40.7691572              |-73.96703464             |29931     |Annual Membership                |Subscriber  |1992          |2         |\n",
      "|950             |2018-06-09 12:19:47.537000  |2018-06-09 12:35:38.406000  |509                 |9 Ave & W 22 St             |40.7454973                |-74.00197139               |445               |E 10 St & Avenue A     |40.72740794             |-73.98142006             |26551     |Annual Membership                |Subscriber  |1992          |1         |\n",
      "|798             |2018-06-09 12:19:48.431000  |2018-06-09 12:33:06.674000  |3544                |Underhill Ave & Pacific St  |40.6804836                |-73.9646795                |3358              |Garfield Pl & 8 Ave    |40.6711978              |-73.97484126             |25229     |24 Hour                          |Customer    |1969          |0         |\n",
      "|1678            |2018-06-09 12:19:50.715000  |2018-06-09 12:47:49.164000  |494                 |W 26 St & 8 Ave             |40.74734825               |-73.99723551               |457               |Broadway & W 58 St     |40.76695317             |-73.98169333             |31951     |Day Pass                         |Customer    |1992          |2         |\n",
      "-----------------------------------------------------------------------------------------------------------------------------------------------------------------------------------------------------------------------------------------------------------------------------------------------------------------------------------------------------------------------\n",
      "\n"
     ]
    }
   ],
   "source": [
    "#working with data frames - create a dataFrame which holds our TRIPS table\n",
    "df_trips = new_session.table(\"trips\")\n",
    "\n",
    "#showing fist 10 rows\n",
    "df_trips.show()"
   ]
  },
  {
   "cell_type": "code",
   "execution_count": 10,
   "metadata": {},
   "outputs": [
    {
     "name": "stdout",
     "output_type": "stream",
     "text": [
      "------------------------------\n",
      "|\"START_STATION_NAME\"        |\n",
      "------------------------------\n",
      "|W 63 St & Broadway          |\n",
      "|Lafayette St & E 8 St       |\n",
      "|8 Ave & W 52 St             |\n",
      "|35 Ave & 37 St              |\n",
      "|Lefferts Pl & Franklin Ave  |\n",
      "|8 Ave & W 31 St             |\n",
      "|W 26 St & 10 Ave            |\n",
      "|10 Ave & W 28 St            |\n",
      "|Greenwich Ave & 8 Ave       |\n",
      "|Front St & Washington St    |\n",
      "------------------------------\n",
      "\n"
     ]
    }
   ],
   "source": [
    "#create dataframe from SQL query\n",
    "df_sql = new_session.sql(\"select distinct start_station_name from trips \")\n",
    "df_sql.show()"
   ]
  },
  {
   "cell_type": "code",
   "execution_count": 13,
   "metadata": {},
   "outputs": [
    {
     "name": "stdout",
     "output_type": "stream",
     "text": [
      "---------------------------------------------------------------------------------------------------------------------------------------------------------------------------------------------------------------------------------------------------------------------------------------------------------------------------------------------------------------\n",
      "|\"TRIPDURATION\"  |\"STARTTIME\"                 |\"STOPTIME\"                  |\"START_STATION_ID\"  |\"START_STATION_NAME\"      |\"START_STATION_LATITUDE\"  |\"START_STATION_LONGITUDE\"  |\"END_STATION_ID\"  |\"END_STATION_NAME\"             |\"END_STATION_LATITUDE\"  |\"END_STATION_LONGITUDE\"  |\"BIKEID\"  |\"MEMBERSHIP_TYPE\"  |\"USERTYPE\"  |\"BIRTH_YEAR\"  |\"GENDER\"  |\n",
      "---------------------------------------------------------------------------------------------------------------------------------------------------------------------------------------------------------------------------------------------------------------------------------------------------------------------------------------------------------------\n",
      "|4273            |2018-06-09 12:42:16.278000  |2018-06-09 13:53:29.425000  |2000                |Front St & Washington St  |40.70255088               |-73.98940236               |321               |Cadman Plaza E & Red Cross Pl  |40.69991755             |-73.98971773             |27501     |24 Hour            |Customer    |1969          |0         |\n",
      "|4254            |2018-06-09 12:42:31.657000  |2018-06-09 13:53:26.648000  |2000                |Front St & Washington St  |40.70255088               |-73.98940236               |321               |Cadman Plaza E & Red Cross Pl  |40.69991755             |-73.98971773             |30674     |24 Hour            |Customer    |1969          |0         |\n",
      "|629             |2018-06-09 12:45:30.503000  |2018-06-09 12:56:00.295000  |2000                |Front St & Washington St  |40.70255088               |-73.98940236               |3232              |Bond St & Fulton St            |40.689621888            |-73.983042687            |28250     |Annual Membership  |Subscriber  |1976          |2         |\n",
      "|2178            |2018-06-09 12:46:03.237000  |2018-06-09 13:22:21.641000  |2000                |Front St & Washington St  |40.70255088               |-73.98940236               |282               |Kent Ave & S 11 St             |40.707644944            |-73.96841526             |18133     |24 Hour            |Customer    |1969          |0         |\n",
      "|2135            |2018-06-09 12:46:06.592000  |2018-06-09 13:21:42.350000  |2000                |Front St & Washington St  |40.70255088               |-73.98940236               |282               |Kent Ave & S 11 St             |40.707644944            |-73.96841526             |32347     |24 Hour            |Customer    |1969          |0         |\n",
      "|513             |2018-06-09 12:51:23.621000  |2018-06-09 12:59:57.269000  |2000                |Front St & Washington St  |40.70255088               |-73.98940236               |3648              |Flushing Ave & Vanderbilt Ave  |40.697950316            |-73.970775604            |18529     |Annual Membership  |Subscriber  |1984          |1         |\n",
      "|1134            |2018-06-09 12:52:47.239000  |2018-06-09 13:11:41.945000  |2000                |Front St & Washington St  |40.70255088               |-73.98940236               |432               |E 7 St & Avenue A              |40.72621788             |-73.98379855             |30633     |Annual Membership  |Subscriber  |1981          |1         |\n",
      "|374             |2018-06-09 12:56:35.379000  |2018-06-09 13:02:50.305000  |2000                |Front St & Washington St  |40.70255088               |-73.98940236               |261               |Johnson St & Gold St           |40.69474881             |-73.98362464             |33347     |Annual Membership  |Subscriber  |1983          |1         |\n",
      "|1691            |2018-06-09 13:11:41.651000  |2018-06-09 13:39:53.573000  |2000                |Front St & Washington St  |40.70255088               |-73.98940236               |3016              |Kent Ave & N 7 St              |40.720367753            |-73.961650729            |33529     |Annual Membership  |Subscriber  |1989          |1         |\n",
      "|1638            |2018-06-09 13:11:42.557000  |2018-06-09 13:39:00.791000  |2000                |Front St & Washington St  |40.70255088               |-73.98940236               |3016              |Kent Ave & N 7 St              |40.720367753            |-73.961650729            |31159     |Single Ride        |Customer    |1987          |1         |\n",
      "---------------------------------------------------------------------------------------------------------------------------------------------------------------------------------------------------------------------------------------------------------------------------------------------------------------------------------------------------------------\n",
      "\n"
     ]
    }
   ],
   "source": [
    "#dataset transformations\n",
    "from snowflake.snowpark.functions import col\n",
    "df_filtered = new_session.table('trips').filter(col(\"start_station_name\") == 'Front St & Washington St')\n",
    "df_filtered.show()\n",
    "\n"
   ]
  },
  {
   "cell_type": "code",
   "execution_count": 18,
   "metadata": {},
   "outputs": [
    {
     "name": "stdout",
     "output_type": "stream",
     "text": [
      "----------------------------------------------------------------------------------------------------------------------------\n",
      "|\"START_STATION_NAME\"      |\"START_STATION_ID\"  |\"END_STATION_NAME\"          |\"STARTTIME\"                 |\"TRIPDURATION\"  |\n",
      "----------------------------------------------------------------------------------------------------------------------------\n",
      "|Front St & Washington St  |2000                |Canal St & Rutgers St       |2018-06-12 13:32:53.430000  |1530            |\n",
      "|Front St & Washington St  |2000                |Canal St & Rutgers St       |2018-06-12 13:32:57.500000  |1522            |\n",
      "|Front St & Washington St  |2000                |Schermerhorn St & Court St  |2018-06-12 13:43:17.149000  |688             |\n",
      "|Front St & Washington St  |2000                |Clinton St & 4 Place        |2018-06-12 14:15:48.634000  |943             |\n",
      "|Front St & Washington St  |2000                |Kane St & Clinton St        |2018-06-12 14:32:04.392000  |659             |\n",
      "|Front St & Washington St  |2000                |Hanson Pl & Ashland Pl      |2018-06-12 14:36:08.830000  |718             |\n",
      "|Front St & Washington St  |2000                |Allen St & Hester St        |2018-06-12 14:38:08.134000  |1159            |\n",
      "|Front St & Washington St  |2000                |Allen St & Hester St        |2018-06-12 14:38:09.401000  |1155            |\n",
      "|Front St & Washington St  |2000                |Johnson St & Gold St        |2018-06-12 14:56:21.187000  |546             |\n",
      "|Front St & Washington St  |2000                |St James Pl & Oliver St     |2018-06-12 15:00:42.704000  |803             |\n",
      "----------------------------------------------------------------------------------------------------------------------------\n",
      "\n"
     ]
    }
   ],
   "source": [
    "#select only some columns from table\n",
    "df_few_columns = df_filtered.select(col('start_station_name'), col('start_station_id'),col('end_station_name'),\n",
    " col('starttime'), col('tripduration'))\n",
    "df_few_columns.show()"
   ]
  },
  {
   "cell_type": "code",
   "execution_count": null,
   "metadata": {},
   "outputs": [],
   "source": [
    "#close the session\n",
    "new_session.close()"
   ]
  }
 ],
 "metadata": {
  "kernelspec": {
   "display_name": "Python 3.8.15 ('py38_env': conda)",
   "language": "python",
   "name": "python3"
  },
  "language_info": {
   "codemirror_mode": {
    "name": "ipython",
    "version": 3
   },
   "file_extension": ".py",
   "mimetype": "text/x-python",
   "name": "python",
   "nbconvert_exporter": "python",
   "pygments_lexer": "ipython3",
   "version": "3.8.15"
  },
  "orig_nbformat": 4,
  "vscode": {
   "interpreter": {
    "hash": "213b9ca92e4f1add5ae23bba1bfb60961b5a96f926a63692a477c0993f17afee"
   }
  }
 },
 "nbformat": 4,
 "nbformat_minor": 2
}
